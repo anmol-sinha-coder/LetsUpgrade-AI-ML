{
 "cells": [
  {
   "cell_type": "markdown",
   "metadata": {},
   "source": [
    "# <font color=\"blue\">Question 1: </font>\n",
    "## <font color=\"sky blue\">Assuming that we have some email addresses in the \"username@companyname.com\" format, please write a program to print the company name of a given email address. Both user names and company names are composed of letters only.</font>"
   ]
  },
  {
   "cell_type": "code",
   "execution_count": 7,
   "metadata": {},
   "outputs": [
    {
     "name": "stdout",
     "output_type": "stream",
     "text": [
      "Enter email: support@letsupgrade.com\n",
      "Company: letsupgrade\n"
     ]
    }
   ],
   "source": [
    "email=input(\"Enter email: \")\n",
    "flag=False\n",
    "comp=\"\"\n",
    "for s in email:\n",
    "    if(s=='@'):\n",
    "        flag=True\n",
    "    elif(s=='.'):\n",
    "        flag=False\n",
    "    elif(flag):\n",
    "        comp+=s\n",
    "print(\"Company:\",comp)"
   ]
  },
  {
   "cell_type": "markdown",
   "metadata": {},
   "source": [
    "# <font color=\"green\">Question 2: </font>\n",
    "## <font color=\"chartreuse\">Write a Python program to implement 15 functions of string.</font>"
   ]
  },
  {
   "cell_type": "code",
   "execution_count": 7,
   "metadata": {},
   "outputs": [
    {
     "name": "stdout",
     "output_type": "stream",
     "text": [
      "Enter comma-separated words: letsupgrade,teachers,hello,bags,world,new,superb\n",
      "[Sorted word set]:  bags , hello , letsupgrade , new , superb , teachers , world   \n"
     ]
    }
   ],
   "source": [
    "l = list(map(str, input(\"Enter comma-separated words: \").split(',')))\n",
    "print('[Sorted word set]: ',end=' ')\n",
    "for s in sorted(l):\n",
    "    print(s,\",\",end=' ')\n",
    "print(\"\\b\\b  \")"
   ]
  },
  {
   "cell_type": "markdown",
   "metadata": {},
   "source": [
    "# <font color=\"maroon\">Question 3: </font>\n",
    "## <font color=\"red\">Create your own Jupyter Notebook for Sets.</font>"
   ]
  },
  {
   "cell_type": "code",
   "execution_count": 44,
   "metadata": {},
   "outputs": [
    {
     "name": "stdout",
     "output_type": "stream",
     "text": [
      "{2.3, (2+3j), '23', (2, 3), 23} <-- Arbitrarily hashed values in heterogenous set. Sets are mutable data-type.\n",
      "\n",
      "\n",
      "{0, 1, 2, 3, 4, 5, 6} <class 'set'>\n",
      "{4, 5, 6, 7, 8, 9} <class 'set'>\n",
      "Union: {0, 1, 2, 3, 4, 5, 6, 7, 8, 9}\n",
      "Intersection: {4, 5, 6}\n",
      "Difference: {0, 1, 2, 3} and {8, 9, 7}\n",
      "Symmetric Difference: {0, 1, 2, 3, 7, 8, 9}\n",
      "Is subset? True\n",
      "Is superset? True\n"
     ]
    },
    {
     "data": {
      "text/plain": [
       "['__add__',\n",
       " '__class__',\n",
       " '__contains__',\n",
       " '__delattr__',\n",
       " '__delitem__',\n",
       " '__dir__',\n",
       " '__doc__',\n",
       " '__eq__',\n",
       " '__format__',\n",
       " '__ge__',\n",
       " '__getattribute__',\n",
       " '__getitem__',\n",
       " '__gt__',\n",
       " '__hash__',\n",
       " '__iadd__',\n",
       " '__imul__',\n",
       " '__init__',\n",
       " '__init_subclass__',\n",
       " '__iter__',\n",
       " '__le__',\n",
       " '__len__',\n",
       " '__lt__',\n",
       " '__mul__',\n",
       " '__ne__',\n",
       " '__new__',\n",
       " '__reduce__',\n",
       " '__reduce_ex__',\n",
       " '__repr__',\n",
       " '__reversed__',\n",
       " '__rmul__',\n",
       " '__setattr__',\n",
       " '__setitem__',\n",
       " '__sizeof__',\n",
       " '__str__',\n",
       " '__subclasshook__',\n",
       " 'append',\n",
       " 'clear',\n",
       " 'copy',\n",
       " 'count',\n",
       " 'extend',\n",
       " 'index',\n",
       " 'insert',\n",
       " 'pop',\n",
       " 'remove',\n",
       " 'reverse',\n",
       " 'sort']"
      ]
     },
     "execution_count": 44,
     "metadata": {},
     "output_type": "execute_result"
    }
   ],
   "source": [
    "hetero={23,2.3,2+3j,\"23\",(2,3)} # mutable objects like lists cannot be hashed onto sets.\n",
    "print(hetero,\"<-- Arbitrarily hashed values in heterogenous set. Sets are mutable data-type.\")\n",
    "print(\"\\n\")\n",
    "s1={1,2,1,4,3,2,2,5,0,6,3,4}\n",
    "print(s1,type(s1)) # no repeated elements allowed in sets.\n",
    "s2={4,5,5,6,7,9,8,7,6,4,9}\n",
    "print(s2,type(s2))\n",
    "print(\"Union:\",s1|s2)\n",
    "print(\"Intersection:\",s1&s2)\n",
    "print(\"Difference:\",s1-s2,\"and\",s2-s1)\n",
    "print(\"Symmetric Difference:\",s1^s2)\n",
    "print(\"Is subset?\",s2 < (s1|s2))\n",
    "print(\"Is superset?\",s2 > (s2-s1))"
   ]
  },
  {
   "cell_type": "markdown",
   "metadata": {},
   "source": [
    "# <font color=\"indigo\">Question 4: </font>\n",
    "## <font color=\"violet\">Given a list of n-1 numbers ranging from 1 to n, your task is to find the missing number. There are no duplicates.</font>"
   ]
  },
  {
   "cell_type": "code",
   "execution_count": 41,
   "metadata": {},
   "outputs": [
    {
     "name": "stdout",
     "output_type": "stream",
     "text": [
      "Enter values between 1 to n: 1 2 4 6 3 7 8\n",
      "Missing number: 5\n"
     ]
    }
   ],
   "source": [
    "nums = list(map(int, input(\"Enter values between 1 to n: \").split(' ')))\n",
    "for n in range(1,len(nums)+2):\n",
    "    if n not in nums:\n",
    "        break;\n",
    "print(\"Missing number:\",n)"
   ]
  },
  {
   "cell_type": "markdown",
   "metadata": {},
   "source": [
    "# <font color=\"Brown\">Question 5: </font>\n",
    "## <font color=\"Orange\">With a given list L, write a program to print this list L after removing all duplicate values with original order reserved.</font>"
   ]
  },
  {
   "cell_type": "code",
   "execution_count": 26,
   "metadata": {},
   "outputs": [
    {
     "name": "stdout",
     "output_type": "stream",
     "text": [
      "Enter comma-separated words: 12 24 35 24 88 120 155 88 120 155\n",
      "New List:  [12, 24, 35, 88, 120, 155]\n"
     ]
    }
   ],
   "source": [
    "L = list(map(int, input(\"Enter comma-separated words: \").split(' ')))\n",
    "\n",
    "for i in L[::-1]:\n",
    "    if L.count(i)>1:\n",
    "        del L[len(L)-1-L[::-1].index(i)]\n",
    "print(\"New List: \",L)"
   ]
  }
 ],
 "metadata": {
  "kernelspec": {
   "display_name": "Python 3",
   "language": "python",
   "name": "python3"
  }
 },
 "nbformat": 4,
 "nbformat_minor": 4
}

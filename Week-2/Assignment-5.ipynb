{
 "cells": [
  {
   "cell_type": "markdown",
   "metadata": {},
   "source": [
    "# <font color=\"blue\">Question 1: </font>\n",
    "## <font color=\"sky blue\">Write a program to copy the contents of one file to another using a for loop. (Don’t use built-in copy function)</font>"
   ]
  },
  {
   "cell_type": "code",
   "execution_count": 24,
   "metadata": {},
   "outputs": [
    {
     "name": "stdout",
     "output_type": "stream",
     "text": [
      "On a Mission to UpSkill 10 Million People for Tech Industry with Live Instructors and Amazing Community for Upgrading Together. Lets Upgrade will change your life.\n",
      "\n",
      " On a Mission to UpSkill 10 Million People for Tech Industry with Live Instructors and Amazing Community for Upgrading Together. Lets Upgrade will change your life.\n",
      "\n"
     ]
    }
   ],
   "source": [
    "f1= open(\"test_1.txt\", 'r+')\n",
    "f2= open(\"test_2.txt\", 'w+')\n",
    "for c in f1.read():\n",
    "    print(c,end='')\n",
    "    f2.write(c)\n",
    "\n",
    "f2.seek(0)\n",
    "print(\"\\n\",f2.read())"
   ]
  },
  {
   "cell_type": "markdown",
   "metadata": {},
   "source": [
    "# <font color=\"green\">Question 2: </font>\n",
    "## <font color=\"chartreuse\">Write a Python program to find maximum and minimum values in the dictionary. Do not use built-in min and max functions.</font>"
   ]
  },
  {
   "cell_type": "code",
   "execution_count": 26,
   "metadata": {},
   "outputs": [
    {
     "name": "stdout",
     "output_type": "stream",
     "text": [
      "Minimum value= -8\n",
      "Maximum value= 9\n"
     ]
    }
   ],
   "source": [
    "d1={'Three':3.3, 'Four':-4, 'Nine':9, 'One':1.1, 'Two':2.2, 'Five':-5.5, 'Eight':-8, 'Six':6, 'Seven':7.7}\n",
    "maximum=minimum=0\n",
    "for val in d1.values():\n",
    "    if val > maximum:\n",
    "        maximum=val\n",
    "    if val < minimum:\n",
    "        minimum=val\n",
    "print(\"Minimum value=\",minimum)\n",
    "print(\"Maximum value=\",maximum)"
   ]
  }
 ],
 "metadata": {
  "kernelspec": {
   "display_name": "Python 3",
   "language": "python",
   "name": "python3"
  },
  "language_info": {
   "codemirror_mode": {
    "name": "ipython",
    "version": 3
   },
   "file_extension": ".py",
   "mimetype": "text/x-python",
   "name": "python",
   "nbconvert_exporter": "python",
   "pygments_lexer": "ipython3",
   "version": "3.7.6"
  }
 },
 "nbformat": 4,
 "nbformat_minor": 4
}

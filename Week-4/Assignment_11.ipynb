{
  "nbformat": 4,
  "nbformat_minor": 0,
  "metadata": {
    "colab": {
      "name": "Assignment-11.ipynb",
      "provenance": []
    },
    "kernelspec": {
      "name": "python3",
      "display_name": "Python 3"
    }
  },
  "cells": [
    {
      "cell_type": "markdown",
      "metadata": {
        "id": "zN_b8_R_rrQY"
      },
      "source": [
        "### <b>|Q.|</b> &emsp; ANOVA (ANalysis Of VAriance)\n",
        "\n",
        "<hr>\n",
        "Three archers – Pat, Jack, and Alex are participating in an archery contest. They are shooting at\n",
        "targets with 10 evenly spaced concentric rings. The rings have score values from 1 through 10\n",
        "assigned to them, with 10 being the highest. Each participant shoots 6 arrow, scoring the\n",
        "following points:<br>\n",
        "Pat – 5, 4, 4, 3, 9, 4<br>\n",
        "Jack – 4, 8, 7, 5, 1, 5<br>\n",
        "Alex – 9, 9, 8, 10, 4, 10<br>\n",
        "Based on the above results we would like to know who the best archer is. In other words our null\n",
        "hypothesis is that the means of all populations are equal."
      ]
    },
    {
      "cell_type": "markdown",
      "metadata": {
        "id": "X46a6XfctbGO"
      },
      "source": [
        "# <b>|Ans.| </b>\n",
        "###<font color='red'> NULL HYPOTHESIS :- </font>\n",
        "# <b>H<sub>0</sub> : </b><font color='blue'>  μ<sub>1</sub> = μ<sub>2</sub> = μ<sub>3</sub> </font>\n",
        "i.e, our null hypothesis is that the means of all populations are equal (for Pat, Jack and Alex).\n",
        "Rejecting the null hypothesis would mean that there is a significant difference between at least two of the archers.\n",
        "\n",
        "The decision to reject the null hypothesis and accept the alternative hypothesis is based on the significance level of the test <b><i>(&alpha;)</b></i> and the probability of observing the effect given that the null hypothesis is true (p-value). If <b><i>\"p &leq; &alpha;\"</b></i>, the null hypothesis is ruled out. We typically use a value of <b><i>'&alpha; = 0.05'</b></i>, which corresponds to 95% confidence. "
      ]
    },
    {
      "cell_type": "code",
      "metadata": {
        "id": "h5BTg6xvuckt",
        "outputId": "364b577d-3273-43c6-fa16-04fa75a0d5b3",
        "colab": {
          "base_uri": "https://localhost:8080/",
          "height": 111
        }
      },
      "source": [
        "import numpy as np\n",
        "from scipy import stats\n",
        " \n",
        "data = np.rec.array([\n",
        "('Pat', 5),\n",
        "('Pat', 4),\n",
        "('Pat', 4),\n",
        "('Pat', 3),\n",
        "('Pat', 9),\n",
        "('Pat', 4),\n",
        "('Jack', 4),\n",
        "('Jack', 8),\n",
        "('Jack', 7),\n",
        "('Jack', 5),\n",
        "('Jack', 1),\n",
        "('Jack', 5),\n",
        "('Alex', 9),\n",
        "('Alex', 8),\n",
        "('Alex', 8),\n",
        "('Alex', 10),\n",
        "('Alex', 5),\n",
        "('Alex', 10)], dtype = [('Archer','|U5'),('Score', '<i8')])\n",
        " \n",
        "f, p = stats.f_oneway(data[data['Archer'] == 'Pat'].Score,\n",
        "                      data[data['Archer'] == 'Jack'].Score,\n",
        "                      data[data['Archer'] == 'Alex'].Score)\n",
        " \n",
        "print ('One-way ANOVA')\n",
        "print ('=============')\n",
        " \n",
        "print ('F value:', round(f,5),\"(in %)\")\n",
        "print ('P value:', p, '\\n')"
      ],
      "execution_count": 13,
      "outputs": [
        {
          "output_type": "stream",
          "text": [
            "One-way ANOVA\n",
            "=============\n",
            "F value: 5.0 (in %)\n",
            "P value: 0.021683749320078414 \n",
            "\n"
          ],
          "name": "stdout"
        }
      ]
    },
    {
      "cell_type": "markdown",
      "metadata": {
        "id": "DmsMvAPvxxgT"
      },
      "source": [
        "As <b>0.02 &leq; 0.05</b> we reject the null hypothesis and we conclude that at least one of the means is different from at least one other population mean (i.e. not all archers perform equally).\n",
        "\n",
        "The thing with one-way ANOVA is that although we now know that there is difference in the performance of the archers, we do not know know exactly who performs best or worst.<hr>\n",
        "\n",
        "# <font color='Indigo'><b>Tukey’s range test</b></font>\n",
        "This test compares all possible pairs and we can use it to precisely identify difference between two means that’s greater than the expected standard error."
      ]
    },
    {
      "cell_type": "code",
      "metadata": {
        "id": "_9oyHDvxycl-",
        "outputId": "82e1ecc9-ab2a-4520-c15f-de104e5aa49e",
        "colab": {
          "base_uri": "https://localhost:8080/",
          "height": 185
        }
      },
      "source": [
        "from statsmodels.stats.multicomp import pairwise_tukeyhsd\n",
        "from statsmodels.stats.multicomp import MultiComparison\n",
        "import pandas.util.testing as tm\n",
        "\n",
        "multi_comp = MultiComparison(data['Score'], data['Archer'])\n",
        "result = multi_comp.tukeyhsd(alpha=0.05)\n",
        " \n",
        "print(result)\n",
        "print(multi_comp.groupsunique)"
      ],
      "execution_count": 14,
      "outputs": [
        {
          "output_type": "stream",
          "text": [
            "Multiple Comparison of Means - Tukey HSD, FWER=0.05 \n",
            "====================================================\n",
            "group1 group2 meandiff p-adj   lower   upper  reject\n",
            "----------------------------------------------------\n",
            "  Alex   Jack  -3.3333 0.0435 -6.5755 -0.0911   True\n",
            "  Alex    Pat     -3.5 0.0337 -6.7422 -0.2578   True\n",
            "  Jack    Pat  -0.1667    0.9 -3.4089  3.0755  False\n",
            "----------------------------------------------------\n",
            "['Alex' 'Jack' 'Pat']\n"
          ],
          "name": "stdout"
        }
      ]
    },
    {
      "cell_type": "markdown",
      "metadata": {
        "id": "dTgaZ3oczcUn"
      },
      "source": [
        "The results above reveal that Alex (group-0) significantly differs from the other two archers. The third column tells us that there is significant evidence to reject the null hypothesis for the groups Alex-Jack (0-1) and Alex-Pat(0-2).\n",
        "\n",
        "The test also shows the difference between the group means (the meandiff column).<br> <br>\n",
        "<b>\n",
        "&mu;<sub>Jack</sub> - &mu;<sub>Alex</sub> = -3.3333 <br>\n",
        "&mu;<sub>Pat</sub> - &mu;<sub>Alex</sub> = - 3.5 <br>\n",
        "So,&emsp; &mu;<sub>Alex</sub> > &mu;<sub>Jack</sub> > &mu;<sub>Pat</sub>\n",
        "</b><br>\n",
        "This leads to the conclusion that Alex is the best archer in the group, and Pat is the worst, comparatively."
      ]
    }
  ]
}
{
 "cells": [
  {
   "cell_type": "markdown",
   "metadata": {},
   "source": [
    "# <font color=\"blue\">Question 1: </font>\n",
    "## <font color=\"sky blue\">Write a Python program to find the first 20 non-even prime natural numbers.</font>"
   ]
  },
  {
   "cell_type": "code",
   "execution_count": 1,
   "metadata": {},
   "outputs": [
    {
     "name": "stdout",
     "output_type": "stream",
     "text": [
      "First 20 odd prime numbers are: 3, 5, 7, 11, 13, 17, 19, 23, 29, 31, 37, 41, 43, 47, 53, 59, 61, 67, 71, 73, \b\b  \n"
     ]
    }
   ],
   "source": [
    "print(\"First 20 odd prime numbers are: \",end=\"\")\n",
    "count=0; num=3    # Here, 3 satisfies criteria for the first non-eve prime natural number. \n",
    "while(count<20):\n",
    "    prime=True\n",
    "    for i in range(2,num):\n",
    "        if(num%i==0):\n",
    "            prime=False\n",
    "    if(prime):\n",
    "        print(num,end=\", \")\n",
    "        count+=1\n",
    "    num+=2\n",
    "print(\"\\b\\b  \")"
   ]
  },
  {
   "cell_type": "markdown",
   "metadata": {},
   "source": [
    "# <font color=\"green\">Question 2: </font>\n",
    "## <font color=\"chartreuse\">Write a Python program to implement 15 functions of string.</font>"
   ]
  },
  {
   "cell_type": "code",
   "execution_count": 2,
   "metadata": {},
   "outputs": [
    {
     "name": "stdout",
     "output_type": "stream",
     "text": [
      "Łetsupgrade Åi-Ml Course Is Being Taken By Dr. Darshan Ingle Sir !\n",
      "ŁETSUPGRADE ÅI-ML COURSE IS BEING TAKEN BY DR. DARSHAN INGLE SIR !\n",
      "łetsupgrade åi-ml course is being taken by dr. darshan ingle sir !\n",
      "Łetsupgrade åi-ml course is being taken by dr. darshan ingle sir !\n",
      "-1\n",
      "18\n",
      "5\n",
      "False\n",
      "False\n",
      "True\n",
      "True\n",
      "False\n",
      "True\n",
      "False\n",
      "b'\\xc5\\x82etsUpgrade \\xc3\\x85I-ML course is being taken by Dr. Darshan Ingle sir !'\n"
     ]
    },
    {
     "data": {
      "text/plain": [
       "66"
      ]
     },
     "execution_count": 2,
     "metadata": {},
     "output_type": "execute_result"
    }
   ],
   "source": [
    "S=\"łetsUpgrade ÅI-ML course is being taken by Dr. Darshan Ingle sir !\" # Original string does not change with use of the following temporary functions (call by value)\n",
    "print(S.title()) # 1\n",
    "print(S.upper()) # 2\n",
    "print(S.lower()) # 3\n",
    "print(S.capitalize()) # 4\n",
    "print(S.find('python')) # 5\n",
    "print(S.index('course')) # 6\n",
    "print(S.count('s')) # 7\n",
    "print(S.isalpha()) # 8\n",
    "print(S.isdigit()) # 9\n",
    "print(S.lower().islower()) # 10\n",
    "print(S.upper().isupper()) # 11\n",
    "print(S.isalnum()) # 12\n",
    "print(S.endswith('!')) # 13\n",
    "print(S.isspace()) # 14\n",
    "print(S.encode()) # 15\n",
    "len(S)"
   ]
  },
  {
   "cell_type": "markdown",
   "metadata": {},
   "source": [
    "# <font color=\"maroon\">Question 3: </font>\n",
    "## <font color=\"red\">Write a Python program to check if the given string is a Palindrome or Anagram or None of them. Display the message accordingly to the user.</font>"
   ]
  },
  {
   "cell_type": "code",
   "execution_count": 3,
   "metadata": {},
   "outputs": [
    {
     "name": "stdout",
     "output_type": "stream",
     "text": [
      "Enter 1st string: rotor\n",
      "Enter 2nd string: TORRO\n",
      "The 1st string is a palindrome !\n",
      "The 2 strings are anagrams !\n"
     ]
    }
   ],
   "source": [
    "s1=input(\"Enter 1st string: \")\n",
    "s2=input(\"Enter 2nd string: \")\n",
    "\n",
    "if s1.lower()[::-1]==s1.lower():\n",
    "    print(\"The 1st string is a palindrome !\")\n",
    "\n",
    "if s2.lower()[::-1]==s2.lower():\n",
    "    print(\"The 2nd string is a palindrome !\")\n",
    "\n",
    "if(sorted(s1.lower())==sorted(s2.lower())):\n",
    "    print(\"The 2 strings are anagrams !\")"
   ]
  },
  {
   "cell_type": "markdown",
   "metadata": {},
   "source": [
    "# <font color=\"indigo\">Question 4: </font>\n",
    "## <font color=\"violet\">Write a Python's user-defined function that removes all the additional characters from the string and convert it finally to lower case using built-in lower(). eg: If the string is \"Dr. Darshan Ingle @AIML Trainer\", then the output be \"drdarshaningleaimltrainer\".</font>"
   ]
  },
  {
   "cell_type": "code",
   "execution_count": 4,
   "metadata": {},
   "outputs": [
    {
     "name": "stdout",
     "output_type": "stream",
     "text": [
      "Enter string: Dr. Darshan Ingle @AIML Trainer is number-1\n",
      "drdarshaningleaimltrainerisnumber1\n"
     ]
    }
   ],
   "source": [
    "s=input(\"Enter string: \")\n",
    "t=\"\"\n",
    "for a in s:\n",
    "    if a.isalnum():\n",
    "        t+=a\n",
    "print(t.lower())"
   ]
  }
 ],
 "metadata": {
  "kernelspec": {
   "display_name": "Python 3",
   "language": "python",
   "name": "python3"
  },
  "language_info": {
   "codemirror_mode": {
    "name": "ipython",
    "version": 3
   },
   "file_extension": ".py",
   "mimetype": "text/x-python",
   "name": "python",
   "nbconvert_exporter": "python",
   "pygments_lexer": "ipython3",
   "version": "3.7.6"
  }
 },
 "nbformat": 4,
 "nbformat_minor": 4
}

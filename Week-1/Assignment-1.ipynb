{
 "cells": [
  {
   "cell_type": "markdown",
   "metadata": {},
   "source": [
    "# <font color=\"blue\">Question 1: </font>\n",
    "## <font color=\"sky blue\">Write a program to subtract two complex numbers in Python.</font>"
   ]
  },
  {
   "cell_type": "code",
   "execution_count": 1,
   "metadata": {},
   "outputs": [
    {
     "name": "stdout",
     "output_type": "stream",
     "text": [
      "Enter 1st complex number: 5-3j\n",
      "Enter 2nd complex number: 2+4j\n",
      "\n",
      "Subtracting 2nd complex number from 1st complex number, we get (3-7j)\n"
     ]
    }
   ],
   "source": [
    "img1=complex(input(\"Enter 1st complex number: \"))\n",
    "img2=complex(input(\"Enter 2nd complex number: \"))\n",
    "print(\"\\nSubtracting 2nd complex number from 1st complex number, we get\",img1-img2)"
   ]
  },
  {
   "cell_type": "markdown",
   "metadata": {},
   "source": [
    "# <font color=\"green\">Question 2: </font>\n",
    "## <font color=\"chartreuse\">Write a program to find the fourth root of a number.</font>"
   ]
  },
  {
   "cell_type": "code",
   "execution_count": 2,
   "metadata": {},
   "outputs": [
    {
     "name": "stdout",
     "output_type": "stream",
     "text": [
      "Enter a real number: 400\n",
      "\n",
      "Fourth(4th) root of the number is 4.47213595499958\n"
     ]
    }
   ],
   "source": [
    "num=float(input(\"Enter a real number: \"))\n",
    "print(\"\\nFourth(4th) root of the number is\",num**(1/4))"
   ]
  },
  {
   "cell_type": "markdown",
   "metadata": {},
   "source": [
    "# <font color=\"maroon\">Question 3: </font>\n",
    "## <font color=\"red\">Write a program to swap two numbers in Python with the help of a temporary variable.</font>"
   ]
  },
  {
   "cell_type": "code",
   "execution_count": 3,
   "metadata": {},
   "outputs": [
    {
     "name": "stdout",
     "output_type": "stream",
     "text": [
      "Enter value of 'a': 234\n",
      "Enter value of 'b': 567\n",
      "\n",
      "Value of a=234\t|\tValue of b=567\n",
      "\n",
      "After swap,\n",
      "Value of a=567\t|\tValue of b=234\n"
     ]
    }
   ],
   "source": [
    "a=int(input(\"Enter value of 'a': \"))\n",
    "b=int(input(\"Enter value of 'b': \"))\n",
    "print(\"\\nValue of a={}\\t|\\tValue of b={}\".format(a,b))\n",
    "t=a\n",
    "a=b\n",
    "b=t\n",
    "print(\"\\nAfter swap,\\nValue of a={}\\t|\\tValue of b={}\".format(a,b))"
   ]
  },
  {
   "cell_type": "markdown",
   "metadata": {},
   "source": [
    "# <font color=\"indigo\">Question 4: </font>\n",
    "## <font color=\"violet\">Write a program to swap two numbers in Python without using a temporary variable.</font>"
   ]
  },
  {
   "cell_type": "code",
   "execution_count": 4,
   "metadata": {},
   "outputs": [
    {
     "name": "stdout",
     "output_type": "stream",
     "text": [
      "Enter value of 'a': 234\n",
      "Enter value of 'b': 567\n",
      "\n",
      "Value of a=234\t|\tValue of b=567\n",
      "\n",
      "After swap,\n",
      "Value of a=567\t|\tValue of b=234\n"
     ]
    }
   ],
   "source": [
    "a=int(input(\"Enter value of 'a': \"))\n",
    "b=int(input(\"Enter value of 'b': \"))\n",
    "print(\"\\nValue of a={}\\t|\\tValue of b={}\".format(a,b))\n",
    "a=a+b\n",
    "b=a-b\n",
    "a=a-b\n",
    "print(\"\\nAfter swap,\\nValue of a={}\\t|\\tValue of b={}\".format(a,b))"
   ]
  },
  {
   "cell_type": "markdown",
   "metadata": {},
   "source": [
    "# <font color=\"Brown\">Question 5: </font>\n",
    "## <font color=\"Orange\">Write a program to convert Fahrenheit to kelvin and celsius both.</font>"
   ]
  },
  {
   "cell_type": "code",
   "execution_count": 5,
   "metadata": {},
   "outputs": [
    {
     "name": "stdout",
     "output_type": "stream",
     "text": [
      "Enter temperature in degrees Fahrenheit: -40.00\n",
      "\n",
      "The temperature in Kelvin is 233.15\n",
      "The temperature in Celsius is -40.0\n"
     ]
    }
   ],
   "source": [
    "fahr=float(input(\"Enter temperature in degrees Fahrenheit: \"))\n",
    "cels= 5/9*(fahr-32)\n",
    "kelvin=cels+273.15\n",
    "print(\"\\nThe temperature in Kelvin is\",round(kelvin,2))\n",
    "print(\"The temperature in Celsius is\",cels)"
   ]
  },
  {
   "cell_type": "markdown",
   "metadata": {},
   "source": [
    "# <font color=\"pink\">Question 6: </font>\n",
    "## <font color=\"gold\">Write a program to demonstrate all the available data types in Python.</font>"
   ]
  },
  {
   "cell_type": "code",
   "execution_count": 6,
   "metadata": {},
   "outputs": [
    {
     "name": "stdout",
     "output_type": "stream",
     "text": [
      "\n",
      "\tDATA TYPES\n",
      "Numeric:  <class 'int'> <class 'float'> <class 'complex'> \n",
      "Boolean:  <class 'bool'> \n",
      "Sequential: <class 'str'> <class 'list'> <class 'tuple'> \n",
      "Other: <class 'dict'> <class 'set'>\n"
     ]
    }
   ],
   "source": [
    "i=4\n",
    "f=4.5\n",
    "c=4+5j\n",
    "b=True\n",
    "word=\"Hello world\"\n",
    "l=[4,'five',6.7]\n",
    "t=(4,\"five\",6.7)\n",
    "s={4,'five',6.7}\n",
    "d={\"One\":1, 2:'Two', 'Three':3}\n",
    "print(\"\\n\\tDATA TYPES\\nNumeric: \",type(i),type(f),type(c),\"\\nBoolean: \",type(b),\"\\nSequential:\",type(word),type(l),type(t),\"\\nOther:\",type(d),type(s),)"
   ]
  }
 ],
 "metadata": {
  "kernelspec": {
   "display_name": "Python 3",
   "language": "python",
   "name": "python3"
  },
  "language_info": {
   "codemirror_mode": {
    "name": "ipython",
    "version": 3
   },
   "file_extension": ".py",
   "mimetype": "text/x-python",
   "name": "python",
   "nbconvert_exporter": "python",
   "pygments_lexer": "ipython3",
   "version": "3.7.6"
  }
 },
 "nbformat": 4,
 "nbformat_minor": 4
}

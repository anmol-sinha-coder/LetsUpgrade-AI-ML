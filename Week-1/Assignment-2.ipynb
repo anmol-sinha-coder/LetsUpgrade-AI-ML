{
 "cells": [
  {
   "cell_type": "markdown",
   "metadata": {},
   "source": [
    "# <font color=\"blue\">Question 1: </font>\n",
    "## <font color=\"sky blue\">Research on whether addition, subtraction, multiplication, division, floor division, and modulo operations be performed on complex numbers. Based on your study, implement a Python program to demonstrate these operations.</font>"
   ]
  },
  {
   "cell_type": "code",
   "execution_count": 1,
   "metadata": {},
   "outputs": [
    {
     "name": "stdout",
     "output_type": "stream",
     "text": [
      "Enter 1st complex number: 10-5j\n",
      "Enter 2nd complex number: 2+j\n",
      "\n",
      "Addition: (12-4j)\n",
      "Subtraction: (8-6j)\n",
      "Multiplication: (25+0j)\n",
      "Division: (3-4j)\n"
     ]
    }
   ],
   "source": [
    "img1=complex(input(\"Enter 1st complex number: \"))\n",
    "img2=complex(input(\"Enter 2nd complex number: \"))\n",
    "print(\"\\nAddition:\",img1+img2)\n",
    "print(\"Subtraction:\",img1-img2)\n",
    "print(\"Multiplication:\",img1*img2)\n",
    "print(\"Division:\",img1/img2)\n",
    "# print(\"Floor_Division:\",img1//img2) \"\"\"TypeError: can't take floor of complex number.\"\"\"\n",
    "# print(\"Modulo:\",img1%img2) \"\"\"TypeError: can't mod complex numbers.\"\"\""
   ]
  },
  {
   "cell_type": "markdown",
   "metadata": {},
   "source": [
    "# <font color=\"green\">Question 2: </font>\n",
    "## <font color=\"chartreuse\">Research on range() functions and its parameters. Create a markdown cell and write in your own words (no copy-paste from google please) what you understand about it. Implement a small program of your choice on the same.</font>"
   ]
  },
  {
   "cell_type": "markdown",
   "metadata": {},
   "source": [
    "* Range function is in itself a python class created for the purpose of value set creation like in maps and generator class in python.\n",
    "\n",
    "* Range prevents the explicit writing of list values, and generates required number patterns.\n",
    "\n",
    "* Range provides an alternative to the 'for' loop to function like the while loop without declaration/initialization of new variables beforehand.\n",
    "\n",
    "* It consists of 3 stages in itself, namely (start, stop, step), where default value of start and step are 0 and +1 respectively, and iteration takes place upto value of 'stop'-1.\n",
    "\n",
    "* Besides the \"start\", \"stop\" and \"step\" parameters, count and index are other functions of range class.\n",
    "\n",
    "The help() function shall provide a detailed analysis of implementation of range() and dir() will list all its magic methods."
   ]
  },
  {
   "cell_type": "code",
   "execution_count": 2,
   "metadata": {},
   "outputs": [
    {
     "name": "stdout",
     "output_type": "stream",
     "text": [
      "[0, 2, 4, 6, 8] <class 'list'>\n",
      "[0, 2, 4, 6, 8] <class 'list'>\n"
     ]
    }
   ],
   "source": [
    "# help(range)\n",
    "# print(dir(range),\"\\n\\n\")\n",
    "list_1=list(range(0,10,2));\n",
    "list_2=[x for x in range(0,10) if x%2==0]\n",
    "print(list_1,type(list_1))\n",
    "print(list_2,type(list_2))"
   ]
  },
  {
   "cell_type": "markdown",
   "metadata": {},
   "source": [
    "# <font color=\"maroon\">Question 3: </font>\n",
    "## <font color=\"red\">Consider two numbers. Perform their subtraction and if the result of subtraction is greater than 25, print their multiplication result else print their division result.</font>"
   ]
  },
  {
   "cell_type": "code",
   "execution_count": 3,
   "metadata": {},
   "outputs": [
    {
     "name": "stdout",
     "output_type": "stream",
     "text": [
      "Enter value of 'a': 77\n",
      "Enter value of 'b': 55\n",
      "\n",
      "Value of a=77.0\t|\tValue of b=55.0\n",
      "\n",
      "Final Result is 1.4\n"
     ]
    }
   ],
   "source": [
    "a=float(input(\"Enter value of 'a': \"))\n",
    "b=float(input(\"Enter value of 'b': \"))\n",
    "print(\"\\nValue of a={}\\t|\\tValue of b={}\".format(a,b))\n",
    "if (a-b>25):\n",
    "    res=a*b\n",
    "else:\n",
    "    res=a/b\n",
    "print(\"\\nFinal Result is {}\".format(res))"
   ]
  },
  {
   "cell_type": "markdown",
   "metadata": {},
   "source": [
    "# <font color=\"indigo\">Question 4: </font>\n",
    "## <font color=\"violet\">Consider a list of 10 elements of integer values. If the number in the list is divisible by 2, print the result as \"square of that number minus 2\".</font>"
   ]
  },
  {
   "cell_type": "code",
   "execution_count": 4,
   "metadata": {},
   "outputs": [
    {
     "name": "stdout",
     "output_type": "stream",
     "text": [
      "Initially: [1, 2, 3, 4, 6, 7, 8, 9, 4, 6]\n",
      "After alteration: [1, 2, 3, 14, 34, 7, 62, 9, 14, 34]\n"
     ]
    }
   ],
   "source": [
    "l1=[1,2,3,4,6,7,8,9,4,6]\n",
    "print(\"Initially:\",l1)\n",
    "for num in l1:\n",
    "    if(num%2==0):\n",
    "        l1[l1.index(num)]=num**2-2 \n",
    "print(\"After alteration:\",l1)"
   ]
  },
  {
   "cell_type": "markdown",
   "metadata": {},
   "source": [
    "# <font color=\"Brown\">Question 5: </font>\n",
    "## <font color=\"Orange\">Consider a list of 10 elements. Print all the elements in the list which are greater than 7 when that number is divided 2.</font>"
   ]
  },
  {
   "cell_type": "code",
   "execution_count": 5,
   "metadata": {},
   "outputs": [
    {
     "name": "stdout",
     "output_type": "stream",
     "text": [
      "Enter 10 values: 8.8 9.9 10 11 12 13.4 15 16.7 18.3 19.6\n",
      "Required values:  15.0  16.7  18.3  19.6  "
     ]
    }
   ],
   "source": [
    "l2 = list(map(float, input(\"Enter 10 values: \").split()))\n",
    "print(\"Required values:\",end=\"  \")\n",
    "for x in l2:\n",
    "    if(x/2 > 7):\n",
    "        print(x,end=\"  \")"
   ]
  }
 ],
 "metadata": {
  "kernelspec": {
   "display_name": "Python 3",
   "language": "python",
   "name": "python3"
  },
  "language_info": {
   "codemirror_mode": {
    "name": "ipython",
    "version": 3
   },
   "file_extension": ".py",
   "mimetype": "text/x-python",
   "name": "python",
   "nbconvert_exporter": "python",
   "pygments_lexer": "ipython3",
   "version": "3.7.6"
  }
 },
 "nbformat": 4,
 "nbformat_minor": 4
}
